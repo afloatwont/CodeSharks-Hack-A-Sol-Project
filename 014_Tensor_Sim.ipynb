{
 "cells": [
  {
   "cell_type": "code",
   "execution_count": 1,
   "metadata": {},
   "outputs": [],
   "source": [
    "import torch\n",
    "import numpy as np\n",
    "import pandas as pd\n",
    "from lib.data_utils import *\n",
    "from lib.model_utils import *\n",
    "from tqdm import tqdm\n",
    "import numpy as np\n",
    "import matplotlib.pyplot as plt\n",
    "import time\n",
    "from torch.nn.functional import one_hot"
   ]
  },
  {
   "attachments": {},
   "cell_type": "markdown",
   "metadata": {},
   "source": [
    "# Load data & models"
   ]
  },
  {
   "attachments": {},
   "cell_type": "markdown",
   "metadata": {},
   "source": [
    "## Data"
   ]
  },
  {
   "cell_type": "code",
   "execution_count": 2,
   "metadata": {},
   "outputs": [],
   "source": [
    "df_train, df_train_y, df_optimization, df_optimization_y, df_test, df_test_y, complete_feature_set, features_model = load_model_training_data_template(train_sets = ['data/wyscout/csv/events/Italy.csv', 'data/wyscout/csv/events/Germany.csv', 'data/wyscout/csv/events/France.csv'], optimization_sets = ['data/wyscout/csv/events/hack_train.csv',], test_sets = ['data/wyscout/csv/events/Spain.csv', 'data/wyscout/csv/events/England.csv'])"
   ]
  },
  {
   "cell_type": "code",
   "execution_count": 3,
   "metadata": {},
   "outputs": [
    {
     "name": "stdout",
     "output_type": "stream",
     "text": [
      "['subtype_id_1', 'subtype_id_2', 'subtype_id_3', 'subtype_id_4', 'subtype_id_5', 'subtype_id_6', 'subtype_id_7', 'subtype_id_8', 'subtype_id_9', 'subtype_id_10', 'subtype_id_11', 'subtype_id_12', 'subtype_id_13', 'subtype_id_14', 'subtype_id_15', 'subtype_id_16', 'subtype_id_17', 'subtype_id_18', 'subtype_id_19', 'subtype_id_20', 'subtype_id_21', 'subtype_id_22', 'subtype_id_23', 'subtype_id_24', 'subtype_id_25', 'subtype_id_26', 'subtype_id_27', 'subtype_id_28', 'subtype_id_29', 'subtype_id_30', 'subtype_id_31', 'subtype_id_32', 'subtype_id_33', 'period', 'minute', 'x', 'y', 'is_home_team', 'accurate', 'goal', 'home_score', 'away_score', 'next_action_x', 'next_action_y', 'next_action_type_1', 'next_action_type_2', 'next_action_type_3', 'next_action_type_4', 'next_action_type_5', 'next_action_type_6', 'next_action_type_7', 'next_action_type_8', 'next_action_type_9', 'next_action_type_10', 'next_action_type_11', 'next_action_type_12', 'next_action_type_13', 'next_action_type_14', 'next_action_type_15', 'next_action_type_16', 'next_action_type_17', 'next_action_type_18', 'next_action_type_19', 'next_action_type_20', 'next_action_type_21', 'next_action_type_22', 'next_action_type_23', 'next_action_type_24', 'next_action_type_25', 'next_action_type_26', 'next_action_type_27', 'next_action_type_28', 'next_action_type_29', 'next_action_type_30', 'next_action_type_31', 'next_action_type_32', 'next_action_type_33', 'next_action_accurate', 'next_action_goal']\n"
     ]
    }
   ],
   "source": [
    "print(complete_feature_set)"
   ]
  },
  {
   "attachments": {},
   "cell_type": "markdown",
   "metadata": {},
   "source": [
    "# Simulation class"
   ]
  },
  {
   "cell_type": "code",
   "execution_count": 4,
   "metadata": {},
   "outputs": [],
   "source": [
    "from lib.simulator import *"
   ]
  },
  {
   "cell_type": "code",
   "execution_count": 5,
   "metadata": {},
   "outputs": [
    {
     "name": "stderr",
     "output_type": "stream",
     "text": [
      "c:\\Users\\jjate\\OneDrive\\Desktop\\LargeEventsModel\\lib\\simulator.py:14: FutureWarning: You are using `torch.load` with `weights_only=False` (the current default value), which uses the default pickle module implicitly. It is possible to construct malicious pickle data which will execute arbitrary code during unpickling (See https://github.com/pytorch/pytorch/blob/main/SECURITY.md#untrusted-models for more details). In a future release, the default value for `weights_only` will be flipped to `True`. This limits the functions that could be executed during unpickling. Arbitrary objects will no longer be allowed to be loaded via this mode unless they are explicitly allowlisted by the user via `torch.serialization.add_safe_globals`. We recommend you start setting `weights_only=True` for any use case where you don't have full control of the loaded file. Please open an issue on GitHub for any issues related to this experimental feature.\n",
      "  self.model_type = torch.load(model_type_path).to(self.device)\n",
      "c:\\Users\\jjate\\OneDrive\\Desktop\\LargeEventsModel\\lib\\simulator.py:15: FutureWarning: You are using `torch.load` with `weights_only=False` (the current default value), which uses the default pickle module implicitly. It is possible to construct malicious pickle data which will execute arbitrary code during unpickling (See https://github.com/pytorch/pytorch/blob/main/SECURITY.md#untrusted-models for more details). In a future release, the default value for `weights_only` will be flipped to `True`. This limits the functions that could be executed during unpickling. Arbitrary objects will no longer be allowed to be loaded via this mode unless they are explicitly allowlisted by the user via `torch.serialization.add_safe_globals`. We recommend you start setting `weights_only=True` for any use case where you don't have full control of the loaded file. Please open an issue on GitHub for any issues related to this experimental feature.\n",
      "  self.model_acc = torch.load(model_acc_path).to(self.device)\n",
      "c:\\Users\\jjate\\OneDrive\\Desktop\\LargeEventsModel\\lib\\simulator.py:16: FutureWarning: You are using `torch.load` with `weights_only=False` (the current default value), which uses the default pickle module implicitly. It is possible to construct malicious pickle data which will execute arbitrary code during unpickling (See https://github.com/pytorch/pytorch/blob/main/SECURITY.md#untrusted-models for more details). In a future release, the default value for `weights_only` will be flipped to `True`. This limits the functions that could be executed during unpickling. Arbitrary objects will no longer be allowed to be loaded via this mode unless they are explicitly allowlisted by the user via `torch.serialization.add_safe_globals`. We recommend you start setting `weights_only=True` for any use case where you don't have full control of the loaded file. Please open an issue on GitHub for any issues related to this experimental feature.\n",
      "  self.model_data = torch.load(model_data_path).to(self.device)\n"
     ]
    }
   ],
   "source": [
    "sim = Simulator(\n",
    "    model_type_path='models/lem/LEMv3_MODEL_TYPE_TORCH.pth',\n",
    "    model_acc_path='models/lem/LEMv4_MODEL_ACC_TORCH.pth',\n",
    "    model_data_path='models/lem/LEMv3_MODEL_DATA_TORCH.pth')"
   ]
  },
  {
   "cell_type": "code",
   "execution_count": 6,
   "metadata": {},
   "outputs": [
    {
     "name": "stderr",
     "output_type": "stream",
     "text": [
      " 91%|█████████ | 1822/2000 [00:51<00:04, 35.65it/s]\n"
     ]
    }
   ],
   "source": [
    "feature_tensor, all_sims_data = sim.simulate([1 if i == 27 else 0 for i in range(33)] + [0, 0, 0.5, 0.5, 1, 1, 0, 0, 0], store_full_sim=True, n_sims=10000)"
   ]
  },
  {
   "attachments": {},
   "cell_type": "markdown",
   "metadata": {},
   "source": [
    "# Post-simulation analysis"
   ]
  },
  {
   "cell_type": "code",
   "execution_count": 7,
   "metadata": {},
   "outputs": [
    {
     "data": {
      "text/html": [
       "<div>\n",
       "<style scoped>\n",
       "    .dataframe tbody tr th:only-of-type {\n",
       "        vertical-align: middle;\n",
       "    }\n",
       "\n",
       "    .dataframe tbody tr th {\n",
       "        vertical-align: top;\n",
       "    }\n",
       "\n",
       "    .dataframe thead th {\n",
       "        text-align: right;\n",
       "    }\n",
       "</style>\n",
       "<table border=\"1\" class=\"dataframe\">\n",
       "  <thead>\n",
       "    <tr style=\"text-align: right;\">\n",
       "      <th></th>\n",
       "      <th>period</th>\n",
       "      <th>minute</th>\n",
       "      <th>x</th>\n",
       "      <th>y</th>\n",
       "      <th>is_home_team</th>\n",
       "      <th>accurate</th>\n",
       "      <th>goal</th>\n",
       "      <th>home_score</th>\n",
       "      <th>away_score</th>\n",
       "      <th>type_id</th>\n",
       "    </tr>\n",
       "  </thead>\n",
       "  <tbody>\n",
       "    <tr>\n",
       "      <th>0</th>\n",
       "      <td>2.0</td>\n",
       "      <td>0.256667</td>\n",
       "      <td>0.59</td>\n",
       "      <td>0.57</td>\n",
       "      <td>0.0</td>\n",
       "      <td>0.0</td>\n",
       "      <td>0.0</td>\n",
       "      <td>1</td>\n",
       "      <td>0</td>\n",
       "      <td>28</td>\n",
       "    </tr>\n",
       "    <tr>\n",
       "      <th>1</th>\n",
       "      <td>2.0</td>\n",
       "      <td>0.049722</td>\n",
       "      <td>0.79</td>\n",
       "      <td>0.24</td>\n",
       "      <td>1.0</td>\n",
       "      <td>0.0</td>\n",
       "      <td>0.0</td>\n",
       "      <td>1</td>\n",
       "      <td>1</td>\n",
       "      <td>23</td>\n",
       "    </tr>\n",
       "    <tr>\n",
       "      <th>2</th>\n",
       "      <td>2.0</td>\n",
       "      <td>0.175833</td>\n",
       "      <td>0.72</td>\n",
       "      <td>0.81</td>\n",
       "      <td>0.0</td>\n",
       "      <td>1.0</td>\n",
       "      <td>0.0</td>\n",
       "      <td>0</td>\n",
       "      <td>1</td>\n",
       "      <td>1</td>\n",
       "    </tr>\n",
       "    <tr>\n",
       "      <th>3</th>\n",
       "      <td>2.0</td>\n",
       "      <td>0.403333</td>\n",
       "      <td>0.93</td>\n",
       "      <td>0.31</td>\n",
       "      <td>1.0</td>\n",
       "      <td>0.0</td>\n",
       "      <td>0.0</td>\n",
       "      <td>2</td>\n",
       "      <td>2</td>\n",
       "      <td>1</td>\n",
       "    </tr>\n",
       "    <tr>\n",
       "      <th>4</th>\n",
       "      <td>2.0</td>\n",
       "      <td>0.146944</td>\n",
       "      <td>0.76</td>\n",
       "      <td>0.41</td>\n",
       "      <td>0.0</td>\n",
       "      <td>0.0</td>\n",
       "      <td>0.0</td>\n",
       "      <td>1</td>\n",
       "      <td>1</td>\n",
       "      <td>2</td>\n",
       "    </tr>\n",
       "    <tr>\n",
       "      <th>...</th>\n",
       "      <td>...</td>\n",
       "      <td>...</td>\n",
       "      <td>...</td>\n",
       "      <td>...</td>\n",
       "      <td>...</td>\n",
       "      <td>...</td>\n",
       "      <td>...</td>\n",
       "      <td>...</td>\n",
       "      <td>...</td>\n",
       "      <td>...</td>\n",
       "    </tr>\n",
       "    <tr>\n",
       "      <th>9995</th>\n",
       "      <td>2.0</td>\n",
       "      <td>0.210278</td>\n",
       "      <td>0.00</td>\n",
       "      <td>1.00</td>\n",
       "      <td>1.0</td>\n",
       "      <td>1.0</td>\n",
       "      <td>0.0</td>\n",
       "      <td>0</td>\n",
       "      <td>2</td>\n",
       "      <td>31</td>\n",
       "    </tr>\n",
       "    <tr>\n",
       "      <th>9996</th>\n",
       "      <td>2.0</td>\n",
       "      <td>0.189167</td>\n",
       "      <td>0.35</td>\n",
       "      <td>0.33</td>\n",
       "      <td>1.0</td>\n",
       "      <td>1.0</td>\n",
       "      <td>0.0</td>\n",
       "      <td>0</td>\n",
       "      <td>1</td>\n",
       "      <td>1</td>\n",
       "    </tr>\n",
       "    <tr>\n",
       "      <th>9997</th>\n",
       "      <td>2.0</td>\n",
       "      <td>0.308333</td>\n",
       "      <td>0.22</td>\n",
       "      <td>0.76</td>\n",
       "      <td>1.0</td>\n",
       "      <td>1.0</td>\n",
       "      <td>0.0</td>\n",
       "      <td>1</td>\n",
       "      <td>2</td>\n",
       "      <td>4</td>\n",
       "    </tr>\n",
       "    <tr>\n",
       "      <th>9998</th>\n",
       "      <td>2.0</td>\n",
       "      <td>0.157778</td>\n",
       "      <td>0.68</td>\n",
       "      <td>0.74</td>\n",
       "      <td>1.0</td>\n",
       "      <td>1.0</td>\n",
       "      <td>0.0</td>\n",
       "      <td>4</td>\n",
       "      <td>0</td>\n",
       "      <td>28</td>\n",
       "    </tr>\n",
       "    <tr>\n",
       "      <th>9999</th>\n",
       "      <td>2.0</td>\n",
       "      <td>0.159167</td>\n",
       "      <td>0.74</td>\n",
       "      <td>0.50</td>\n",
       "      <td>0.0</td>\n",
       "      <td>1.0</td>\n",
       "      <td>0.0</td>\n",
       "      <td>3</td>\n",
       "      <td>0</td>\n",
       "      <td>28</td>\n",
       "    </tr>\n",
       "  </tbody>\n",
       "</table>\n",
       "<p>10000 rows × 10 columns</p>\n",
       "</div>"
      ],
      "text/plain": [
       "      period    minute     x     y  is_home_team  accurate  goal  home_score  \\\n",
       "0        2.0  0.256667  0.59  0.57           0.0       0.0   0.0           1   \n",
       "1        2.0  0.049722  0.79  0.24           1.0       0.0   0.0           1   \n",
       "2        2.0  0.175833  0.72  0.81           0.0       1.0   0.0           0   \n",
       "3        2.0  0.403333  0.93  0.31           1.0       0.0   0.0           2   \n",
       "4        2.0  0.146944  0.76  0.41           0.0       0.0   0.0           1   \n",
       "...      ...       ...   ...   ...           ...       ...   ...         ...   \n",
       "9995     2.0  0.210278  0.00  1.00           1.0       1.0   0.0           0   \n",
       "9996     2.0  0.189167  0.35  0.33           1.0       1.0   0.0           0   \n",
       "9997     2.0  0.308333  0.22  0.76           1.0       1.0   0.0           1   \n",
       "9998     2.0  0.157778  0.68  0.74           1.0       1.0   0.0           4   \n",
       "9999     2.0  0.159167  0.74  0.50           0.0       1.0   0.0           3   \n",
       "\n",
       "      away_score  type_id  \n",
       "0              0       28  \n",
       "1              1       23  \n",
       "2              1        1  \n",
       "3              2        1  \n",
       "4              1        2  \n",
       "...          ...      ...  \n",
       "9995           2       31  \n",
       "9996           1        1  \n",
       "9997           2        4  \n",
       "9998           0       28  \n",
       "9999           0       28  \n",
       "\n",
       "[10000 rows x 10 columns]"
      ]
     },
     "execution_count": 7,
     "metadata": {},
     "output_type": "execute_result"
    }
   ],
   "source": [
    "data = pd.DataFrame(feature_tensor)\n",
    "data['type_id'] = data[data.columns[:33]].idxmax(axis=1) + 1\n",
    "data = data.drop(data.columns[:33], axis=1)\n",
    "data.columns = ['period', 'minute', 'x', 'y', 'is_home_team', 'accurate', 'goal', 'home_score', 'away_score', 'type_id']\n",
    "data.home_score = (data.home_score * 10).astype(int)\n",
    "data.away_score = (data.away_score * 10).astype(int)\n",
    "data"
   ]
  },
  {
   "cell_type": "code",
   "execution_count": 8,
   "metadata": {},
   "outputs": [
    {
     "data": {
      "text/plain": [
       "period\n",
       "2.0    10000\n",
       "Name: count, dtype: int64"
      ]
     },
     "execution_count": 8,
     "metadata": {},
     "output_type": "execute_result"
    }
   ],
   "source": [
    "data.period.value_counts()"
   ]
  },
  {
   "cell_type": "code",
   "execution_count": 22,
   "metadata": {},
   "outputs": [
    {
     "data": {
      "image/png": "[encoded data removed]",
      "text/plain": [
       "<Figure size 900x1500 with 3 Axes>"
      ]
     },
     "metadata": {},
     "output_type": "display_data"
    }
   ],
   "source": [
    "plt.rcParams['figure.figsize'] = (9, 15)  # Adjusted height for 3 plots\n",
    "\n",
    "# Simulated data setup for the pivot_table and bar plots\n",
    "\n",
    "# First plot: Distribution of Results in Simulated Matches\n",
    "plt.subplot(3, 1, 1)  # First of 3 rows\n",
    "plt.title('Distribution of Results in Simulated Matches')\n",
    "plt.imshow(data.pivot_table(index='home_score', columns='away_score', values='x', aggfunc='count'), cmap='hot_r')\n",
    "plt.ylim(8.5, -0.5)\n",
    "plt.xlim(-0.5, 8.5)\n",
    "plt.ylabel('Home Goals')\n",
    "plt.xlabel('Away Goals')\n",
    "plt.gca().set_aspect('equal', adjustable='box')\n",
    "\n",
    "# Second plot: Distribution of Home Goals\n",
    "df_results = pd.DataFrame(feature_tensor[:, 40:42] * 10, columns=['HG', 'AG'])\n",
    "plt.subplot(3, 1, 2)  # Second of 3 rows\n",
    "plt.bar(df_results.groupby('HG').HG.count().index, \n",
    "        df_results.groupby('HG').HG.count() / df_results.groupby('HG').HG.count().sum(), \n",
    "        alpha=0.5, label=f'Simulation (Avg: {df_results[\"HG\"].mean():.2f})')\n",
    "plt.legend()\n",
    "plt.title('Distribution of Home Goals')\n",
    "plt.xlabel('Home Goals')\n",
    "plt.ylabel('Frequency')\n",
    "plt.xlim(-0.5, 8.5)\n",
    "plt.ylim(0, 0.5)\n",
    "plt.gca().set_aspect(20, adjustable='box')\n",
    "\n",
    "# Third plot: Distribution of Away Goals\n",
    "plt.subplot(3, 1, 3)  # Third of 3 rows\n",
    "plt.bar(df_results.groupby('AG').AG.count().index, \n",
    "        df_results.groupby('AG').AG.count() / df_results.groupby('AG').AG.count().sum(), \n",
    "        alpha=0.5, label=f'Simulation (Avg: {df_results[\"AG\"].mean():.2f})')\n",
    "plt.legend()\n",
    "plt.xlim(-0.5, 8.5)\n",
    "plt.ylim(0, 0.5)\n",
    "plt.title('Distribution of Away Goals')\n",
    "plt.xlabel('Away Goals')\n",
    "plt.ylabel('Frequency')\n",
    "plt.gca().set_aspect(20, adjustable='box')\n",
    "\n",
    "# Adjust layout\n",
    "plt.tight_layout()\n",
    "plt.show()"
   ]
  },
  {
   "cell_type": "code",
   "execution_count": 24,
   "metadata": {},
   "outputs": [
    {
     "data": {
      "image/png": "[encoded data removed]",
      "text/plain": [
       "<Figure size 900x1500 with 2 Axes>"
      ]
     },
     "metadata": {},
     "output_type": "display_data"
    }
   ],
   "source": [
    "df_results = pd.DataFrame(feature_tensor[:, 40:42] * 10, columns=['HG', 'AG'])\n",
    "plt.subplot(121)\n",
    "plt.bar(df_results.groupby('HG').HG.count().index, df_results.groupby('HG').HG.count()/df_results.groupby('HG').HG.count().max(), alpha=0.5, label=f'Simulation (Avg: {df_results[\"HG\"].mean():.2f})')\n",
    "plt.legend();\n",
    "plt.subplot(122)\n",
    "plt.bar(df_results.groupby('AG').AG.count().index, df_results.groupby('AG').AG.count()/df_results.groupby('AG').AG.count().max(), alpha=0.5, label=f'Simulation (Avg: {df_results[\"AG\"].mean():.2f})')\n",
    "plt.legend();\n",
    "\n",
    "# plt.savefig('figures/paper_lem/distribution_scores.pdf', bbox_inches='tight')"
   ]
  },
  {
   "cell_type": "code",
   "execution_count": 25,
   "metadata": {},
   "outputs": [
    {
     "data": {
      "image/png": "[encoded data removed]",
      "text/plain": [
       "<Figure size 2000x1000 with 1 Axes>"
      ]
     },
     "metadata": {},
     "output_type": "display_data"
    }
   ],
   "source": [
    "data = pd.DataFrame(torch.concat(all_sims_data))\n",
    "data[data.columns[0:33]].sum().plot.bar(figsize=(20, 10));"
   ]
  },
  {
   "cell_type": "code",
   "execution_count": 26,
   "metadata": {},
   "outputs": [],
   "source": [
    "df_all_data = []\n",
    "for i in range(len(all_sims_data)):\n",
    "    data = pd.DataFrame(all_sims_data[i])\n",
    "    data['type_id'] = data[data.columns[:33]].idxmax(axis=1) + 1\n",
    "    data = data.drop(data.columns[:33], axis=1)\n",
    "    data.columns = ['period', 'minute', 'x', 'y', 'is_home_team', 'accurate', 'goal', 'home_score', 'away_score', 'type_id']\n",
    "    data['event_id'] = i\n",
    "    data['game_id'] = [i for i in range(len(all_sims_data[i]))]\n",
    "    df_all_data.append(data)"
   ]
  },
  {
   "cell_type": "code",
   "execution_count": 27,
   "metadata": {},
   "outputs": [],
   "source": [
    "df_all_data = pd.concat(df_all_data)\n",
    "df_all_data.minute *= 60\n",
    "df_all_data.x *= 100\n",
    "df_all_data.y *= 100\n",
    "df_all_data.home_score = (df_all_data.home_score * 10).astype(int)\n",
    "df_all_data.away_score = (df_all_data.away_score * 10).astype(int)\n",
    "df_all_data['type_name'] = df_all_data.type_id.map({v: k for k, v in SUBEVENT_TYPE_MAP.items()})\n",
    "df_all_data = df_all_data.reset_index(drop=True)"
   ]
  },
  {
   "cell_type": "code",
   "execution_count": 28,
   "metadata": {},
   "outputs": [
    {
     "data": {
      "text/html": [
       "<div>\n",
       "<style scoped>\n",
       "    .dataframe tbody tr th:only-of-type {\n",
       "        vertical-align: middle;\n",
       "    }\n",
       "\n",
       "    .dataframe tbody tr th {\n",
       "        vertical-align: top;\n",
       "    }\n",
       "\n",
       "    .dataframe thead th {\n",
       "        text-align: right;\n",
       "    }\n",
       "</style>\n",
       "<table border=\"1\" class=\"dataframe\">\n",
       "  <thead>\n",
       "    <tr style=\"text-align: right;\">\n",
       "      <th></th>\n",
       "      <th>period</th>\n",
       "      <th>minute</th>\n",
       "      <th>x</th>\n",
       "      <th>y</th>\n",
       "      <th>is_home_team</th>\n",
       "      <th>accurate</th>\n",
       "      <th>goal</th>\n",
       "      <th>home_score</th>\n",
       "      <th>away_score</th>\n",
       "      <th>type_id</th>\n",
       "      <th>event_id</th>\n",
       "      <th>game_id</th>\n",
       "      <th>type_name</th>\n",
       "    </tr>\n",
       "  </thead>\n",
       "  <tbody>\n",
       "    <tr>\n",
       "      <th>12882614</th>\n",
       "      <td>1.0</td>\n",
       "      <td>36.999962</td>\n",
       "      <td>75.000000</td>\n",
       "      <td>7.000000</td>\n",
       "      <td>1.0</td>\n",
       "      <td>1.0</td>\n",
       "      <td>0.0</td>\n",
       "      <td>1</td>\n",
       "      <td>1</td>\n",
       "      <td>28</td>\n",
       "      <td>1288</td>\n",
       "      <td>2614</td>\n",
       "      <td>simple_pass</td>\n",
       "    </tr>\n",
       "    <tr>\n",
       "      <th>15462159</th>\n",
       "      <td>1.0</td>\n",
       "      <td>43.816635</td>\n",
       "      <td>88.000000</td>\n",
       "      <td>66.000000</td>\n",
       "      <td>1.0</td>\n",
       "      <td>0.0</td>\n",
       "      <td>0.0</td>\n",
       "      <td>1</td>\n",
       "      <td>0</td>\n",
       "      <td>23</td>\n",
       "      <td>1546</td>\n",
       "      <td>2159</td>\n",
       "      <td>cross</td>\n",
       "    </tr>\n",
       "    <tr>\n",
       "      <th>8391026</th>\n",
       "      <td>1.0</td>\n",
       "      <td>6.000001</td>\n",
       "      <td>89.000000</td>\n",
       "      <td>56.000000</td>\n",
       "      <td>0.0</td>\n",
       "      <td>1.0</td>\n",
       "      <td>0.0</td>\n",
       "      <td>1</td>\n",
       "      <td>1</td>\n",
       "      <td>33</td>\n",
       "      <td>839</td>\n",
       "      <td>1026</td>\n",
       "      <td>shot</td>\n",
       "    </tr>\n",
       "    <tr>\n",
       "      <th>8301108</th>\n",
       "      <td>0.0</td>\n",
       "      <td>42.883293</td>\n",
       "      <td>13.000000</td>\n",
       "      <td>58.999996</td>\n",
       "      <td>1.0</td>\n",
       "      <td>0.0</td>\n",
       "      <td>0.0</td>\n",
       "      <td>2</td>\n",
       "      <td>0</td>\n",
       "      <td>22</td>\n",
       "      <td>830</td>\n",
       "      <td>1108</td>\n",
       "      <td>touch</td>\n",
       "    </tr>\n",
       "    <tr>\n",
       "      <th>12423044</th>\n",
       "      <td>1.0</td>\n",
       "      <td>29.383339</td>\n",
       "      <td>76.000000</td>\n",
       "      <td>9.000000</td>\n",
       "      <td>0.0</td>\n",
       "      <td>0.0</td>\n",
       "      <td>0.0</td>\n",
       "      <td>0</td>\n",
       "      <td>3</td>\n",
       "      <td>23</td>\n",
       "      <td>1242</td>\n",
       "      <td>3044</td>\n",
       "      <td>cross</td>\n",
       "    </tr>\n",
       "    <tr>\n",
       "      <th>2193160</th>\n",
       "      <td>0.0</td>\n",
       "      <td>10.183331</td>\n",
       "      <td>46.000000</td>\n",
       "      <td>25.000000</td>\n",
       "      <td>0.0</td>\n",
       "      <td>1.0</td>\n",
       "      <td>0.0</td>\n",
       "      <td>0</td>\n",
       "      <td>1</td>\n",
       "      <td>28</td>\n",
       "      <td>219</td>\n",
       "      <td>3160</td>\n",
       "      <td>simple_pass</td>\n",
       "    </tr>\n",
       "    <tr>\n",
       "      <th>20241</th>\n",
       "      <td>0.0</td>\n",
       "      <td>0.100000</td>\n",
       "      <td>81.000000</td>\n",
       "      <td>88.000000</td>\n",
       "      <td>1.0</td>\n",
       "      <td>1.0</td>\n",
       "      <td>0.0</td>\n",
       "      <td>0</td>\n",
       "      <td>0</td>\n",
       "      <td>2</td>\n",
       "      <td>2</td>\n",
       "      <td>241</td>\n",
       "      <td>ground_attacking_duel</td>\n",
       "    </tr>\n",
       "    <tr>\n",
       "      <th>16816457</th>\n",
       "      <td>2.0</td>\n",
       "      <td>3.816667</td>\n",
       "      <td>60.000004</td>\n",
       "      <td>29.000000</td>\n",
       "      <td>0.0</td>\n",
       "      <td>1.0</td>\n",
       "      <td>0.0</td>\n",
       "      <td>3</td>\n",
       "      <td>0</td>\n",
       "      <td>28</td>\n",
       "      <td>1681</td>\n",
       "      <td>6457</td>\n",
       "      <td>simple_pass</td>\n",
       "    </tr>\n",
       "    <tr>\n",
       "      <th>1252376</th>\n",
       "      <td>0.0</td>\n",
       "      <td>6.950000</td>\n",
       "      <td>40.000000</td>\n",
       "      <td>92.000000</td>\n",
       "      <td>1.0</td>\n",
       "      <td>1.0</td>\n",
       "      <td>0.0</td>\n",
       "      <td>0</td>\n",
       "      <td>0</td>\n",
       "      <td>28</td>\n",
       "      <td>125</td>\n",
       "      <td>2376</td>\n",
       "      <td>simple_pass</td>\n",
       "    </tr>\n",
       "    <tr>\n",
       "      <th>1740923</th>\n",
       "      <td>0.0</td>\n",
       "      <td>10.483331</td>\n",
       "      <td>32.000000</td>\n",
       "      <td>9.000000</td>\n",
       "      <td>0.0</td>\n",
       "      <td>1.0</td>\n",
       "      <td>0.0</td>\n",
       "      <td>0</td>\n",
       "      <td>0</td>\n",
       "      <td>28</td>\n",
       "      <td>174</td>\n",
       "      <td>923</td>\n",
       "      <td>simple_pass</td>\n",
       "    </tr>\n",
       "  </tbody>\n",
       "</table>\n",
       "</div>"
      ],
      "text/plain": [
       "          period     minute          x          y  is_home_team  accurate  \\\n",
       "12882614     1.0  36.999962  75.000000   7.000000           1.0       1.0   \n",
       "15462159     1.0  43.816635  88.000000  66.000000           1.0       0.0   \n",
       "8391026      1.0   6.000001  89.000000  56.000000           0.0       1.0   \n",
       "8301108      0.0  42.883293  13.000000  58.999996           1.0       0.0   \n",
       "12423044     1.0  29.383339  76.000000   9.000000           0.0       0.0   \n",
       "2193160      0.0  10.183331  46.000000  25.000000           0.0       1.0   \n",
       "20241        0.0   0.100000  81.000000  88.000000           1.0       1.0   \n",
       "16816457     2.0   3.816667  60.000004  29.000000           0.0       1.0   \n",
       "1252376      0.0   6.950000  40.000000  92.000000           1.0       1.0   \n",
       "1740923      0.0  10.483331  32.000000   9.000000           0.0       1.0   \n",
       "\n",
       "          goal  home_score  away_score  type_id  event_id  game_id  \\\n",
       "12882614   0.0           1           1       28      1288     2614   \n",
       "15462159   0.0           1           0       23      1546     2159   \n",
       "8391026    0.0           1           1       33       839     1026   \n",
       "8301108    0.0           2           0       22       830     1108   \n",
       "12423044   0.0           0           3       23      1242     3044   \n",
       "2193160    0.0           0           1       28       219     3160   \n",
       "20241      0.0           0           0        2         2      241   \n",
       "16816457   0.0           3           0       28      1681     6457   \n",
       "1252376    0.0           0           0       28       125     2376   \n",
       "1740923    0.0           0           0       28       174      923   \n",
       "\n",
       "                      type_name  \n",
       "12882614            simple_pass  \n",
       "15462159                  cross  \n",
       "8391026                    shot  \n",
       "8301108                   touch  \n",
       "12423044                  cross  \n",
       "2193160             simple_pass  \n",
       "20241     ground_attacking_duel  \n",
       "16816457            simple_pass  \n",
       "1252376             simple_pass  \n",
       "1740923             simple_pass  "
      ]
     },
     "execution_count": 28,
     "metadata": {},
     "output_type": "execute_result"
    }
   ],
   "source": [
    "df_all_data.sample(10)"
   ]
  },
  {
   "cell_type": "code",
   "execution_count": 29,
   "metadata": {},
   "outputs": [
    {
     "data": {
      "text/plain": [
       "(1574.553, 1612.232645403377)"
      ]
     },
     "execution_count": 29,
     "metadata": {},
     "output_type": "execute_result"
    }
   ],
   "source": [
    "df_all_data[df_all_data.period <= 1].groupby('game_id').minute.count().mean(), df_train.groupby('match_id').minute.count().mean()"
   ]
  },
  {
   "cell_type": "code",
   "execution_count": 30,
   "metadata": {},
   "outputs": [],
   "source": [
    "diffs = []\n",
    "for game_id in df_all_data.game_id.unique():\n",
    "    diffs.append(df_all_data[df_all_data.game_id == game_id].minute.diff().dropna().values)\n",
    "diffs = np.concatenate(diffs)\n",
    "diffs = diffs[diffs > -10]\n",
    "plt.hist(diffs, bins=100);"
   ]
  },
  {
   "cell_type": "code",
   "execution_count": null,
   "metadata": {},
   "outputs": [
    {
     "data": {
      "text/plain": [
       "(1832000, 6125.0, 3091.0, 1359.0000915527344, 1286.0000610351562)"
      ]
     },
     "execution_count": 17,
     "metadata": {},
     "output_type": "execute_result"
    }
   ],
   "source": [
    "len(df_all_data), df_all_data.goal.sum(), df_all_data[df_all_data.type_name.isin(['shot', 'penalty', 'free_kick_shot'])].goal.sum(), data.home_score.sum()*10, data.away_score.sum()*10"
   ]
  },
  {
   "cell_type": "code",
   "execution_count": null,
   "metadata": {},
   "outputs": [
    {
     "data": {
      "text/plain": [
       "[26782, 6125.0, 2821.0, 206.0, 0.0, 0.014618995633187772, 0.10533193936225824]"
      ]
     },
     "execution_count": 18,
     "metadata": {},
     "output_type": "execute_result"
    }
   ],
   "source": [
    "[\n",
    "    len(df_all_data[df_all_data.type_name == 'shot']), \n",
    "    df_all_data.goal.sum(), \n",
    "    df_all_data[df_all_data.type_name == 'shot'].goal.sum(), \n",
    "    df_all_data[df_all_data.type_name == 'penalty'].goal.sum(), \n",
    "    df_all_data[df_all_data.type_name == 'direct_free_kick'].goal.sum(), \n",
    "    len(df_all_data[df_all_data.type_name == 'shot']) / len(df_all_data), \n",
    "    df_all_data[df_all_data.type_name == 'shot'].goal.sum()/len(df_all_data[df_all_data.type_name == 'shot']),\n",
    "]"
   ]
  },
  {
   "cell_type": "code",
   "execution_count": null,
   "metadata": {},
   "outputs": [
    {
     "data": {
      "text/html": [
       "<div>\n",
       "<style scoped>\n",
       "    .dataframe tbody tr th:only-of-type {\n",
       "        vertical-align: middle;\n",
       "    }\n",
       "\n",
       "    .dataframe tbody tr th {\n",
       "        vertical-align: top;\n",
       "    }\n",
       "\n",
       "    .dataframe thead th {\n",
       "        text-align: right;\n",
       "    }\n",
       "</style>\n",
       "<table border=\"1\" class=\"dataframe\">\n",
       "  <thead>\n",
       "    <tr style=\"text-align: right;\">\n",
       "      <th></th>\n",
       "      <th>goal</th>\n",
       "      <th>goal/shot</th>\n",
       "      <th>shot</th>\n",
       "      <th>simple_pass</th>\n",
       "      <th>ground_attacking_duel</th>\n",
       "      <th>ground_defending_duel</th>\n",
       "      <th>touch</th>\n",
       "      <th>air_duel</th>\n",
       "      <th>high_pass</th>\n",
       "      <th>throw_in</th>\n",
       "      <th>cross</th>\n",
       "      <th>free_kick</th>\n",
       "      <th>foul</th>\n",
       "    </tr>\n",
       "  </thead>\n",
       "  <tbody>\n",
       "    <tr>\n",
       "      <th>0</th>\n",
       "      <td>0.334</td>\n",
       "      <td>10.533</td>\n",
       "      <td>1.46</td>\n",
       "      <td>42.8</td>\n",
       "      <td>8.1</td>\n",
       "      <td>8.3</td>\n",
       "      <td>5.2</td>\n",
       "      <td>6.2</td>\n",
       "      <td>4.1</td>\n",
       "      <td>2.5</td>\n",
       "      <td>2.1</td>\n",
       "      <td>1.4</td>\n",
       "      <td>1.4</td>\n",
       "    </tr>\n",
       "    <tr>\n",
       "      <th>1</th>\n",
       "      <td>0.333</td>\n",
       "      <td>10.291</td>\n",
       "      <td>1.40</td>\n",
       "      <td>41.4</td>\n",
       "      <td>9.1</td>\n",
       "      <td>9.0</td>\n",
       "      <td>5.7</td>\n",
       "      <td>5.2</td>\n",
       "      <td>4.2</td>\n",
       "      <td>2.8</td>\n",
       "      <td>2.0</td>\n",
       "      <td>1.5</td>\n",
       "      <td>1.6</td>\n",
       "    </tr>\n",
       "  </tbody>\n",
       "</table>\n",
       "</div>"
      ],
      "text/plain": [
       "    goal  goal/shot  shot  simple_pass  ground_attacking_duel  \\\n",
       "0  0.334     10.533  1.46         42.8                    8.1   \n",
       "1  0.333     10.291  1.40         41.4                    9.1   \n",
       "\n",
       "   ground_defending_duel  touch  air_duel  high_pass  throw_in  cross  \\\n",
       "0                    8.3    5.2       6.2        4.1       2.5    2.1   \n",
       "1                    9.0    5.7       5.2        4.2       2.8    2.0   \n",
       "\n",
       "   free_kick  foul  \n",
       "0        1.4   1.4  \n",
       "1        1.5   1.6  "
      ]
     },
     "execution_count": 19,
     "metadata": {},
     "output_type": "execute_result"
    }
   ],
   "source": [
    "pd.DataFrame([{\n",
    "    'goal': round(df_all_data['goal'].sum() / len(df_all_data) * 100,3),\n",
    "    'goal/shot': round(df_all_data[df_all_data.type_name == 'shot'].goal.sum() / len(df_all_data[df_all_data.type_name == 'shot']) * 100,3),\n",
    "    'shot': round(len(df_all_data[df_all_data.type_name == 'shot']) / len(df_all_data) * 100,2), \n",
    "    'simple_pass': round(len(df_all_data[df_all_data.type_name == 'simple_pass']) / len(df_all_data) * 100,1), \n",
    "    'ground_attacking_duel': round(len(df_all_data[df_all_data.type_name == 'ground_attacking_duel']) / len(df_all_data) * 100,1), \n",
    "    'ground_defending_duel': round(len(df_all_data[df_all_data.type_name == 'ground_defending_duel']) / len(df_all_data) * 100,1), \n",
    "    'touch': round(len(df_all_data[df_all_data.type_name == 'touch']) / len(df_all_data) * 100,1), \n",
    "    'air_duel': round(len(df_all_data[df_all_data.type_name == 'air_duel']) / len(df_all_data) * 100,1), \n",
    "    'high_pass': round(len(df_all_data[df_all_data.type_name == 'high_pass']) / len(df_all_data) * 100,1), \n",
    "    'throw_in': round(len(df_all_data[df_all_data.type_name == 'throw_in']) / len(df_all_data) * 100,1), \n",
    "    'cross': round(len(df_all_data[df_all_data.type_name == 'cross']) / len(df_all_data) * 100,1), \n",
    "    'free_kick': round(len(df_all_data[df_all_data.type_name == 'free_kick']) / len(df_all_data) * 100,1), \n",
    "    'foul': round(len(df_all_data[df_all_data.type_name == 'foul']) / len(df_all_data) * 100,1), \n",
    "},\n",
    "{\n",
    "    'goal': round(df_train['goal'].sum() / len(df_train) * 100,3),\n",
    "    'goal/shot': round(df_train[df_train.subtype_name == 'shot'].goal.sum() / len(df_train[df_train.subtype_name == 'shot']) * 100,3),\n",
    "    'shot': round(len(df_train[df_train.subtype_name == 'shot']) / len(df_train) * 100,2), \n",
    "    'simple_pass': round(len(df_train[df_train.subtype_name == 'simple_pass']) / len(df_train) * 100,1), \n",
    "    'ground_attacking_duel': round(len(df_train[df_train.subtype_name == 'ground_attacking_duel']) / len(df_train) * 100,1), \n",
    "    'ground_defending_duel': round(len(df_train[df_train.subtype_name == 'ground_defending_duel']) / len(df_train) * 100,1), \n",
    "    'touch': round(len(df_train[df_train.subtype_name == 'touch']) / len(df_train) * 100,1), \n",
    "    'air_duel': round(len(df_train[df_train.subtype_name == 'air_duel']) / len(df_train) * 100,1), \n",
    "    'high_pass': round(len(df_train[df_train.subtype_name == 'high_pass']) / len(df_train) * 100,1), \n",
    "    'throw_in': round(len(df_train[df_train.subtype_name == 'throw_in']) / len(df_train) * 100,1), \n",
    "    'cross': round(len(df_train[df_train.subtype_name == 'cross']) / len(df_train) * 100,1), \n",
    "    'free_kick': round(len(df_train[df_train.subtype_name == 'free_kick']) / len(df_train) * 100,1), \n",
    "    'foul': round(len(df_train[df_train.subtype_name == 'foul']) / len(df_train) * 100,1), \n",
    "}])"
   ]
  },
  {
   "cell_type": "code",
   "execution_count": null,
   "metadata": {},
   "outputs": [
    {
     "data": {
      "text/plain": [
       "goal  type_name              \n",
       "0.0   simple_pass                784870\n",
       "      ground_defending_duel      152692\n",
       "      ground_attacking_duel      148491\n",
       "      air_duel                   112901\n",
       "      touch                       95073\n",
       "      ground_loose_ball_duel      90964\n",
       "      high_pass                   75596\n",
       "      head_pass                   54464\n",
       "      throw_in                    45610\n",
       "      cross                       38416\n",
       "      clearance                   31803\n",
       "      foul                        26541\n",
       "      free_kick                   25933\n",
       "      shot                        23961\n",
       "      launch                      23424\n",
       "      goal_kick                   18197\n",
       "      smart_pass                  16384\n",
       "      acceleration                15629\n",
       "      corner                      13428\n",
       "      hand_pass                    9688\n",
       "      free_kick_cross              5145\n",
       "      save_attempt                 4925\n",
       "      reflexes                     4550\n",
       "      goalkeeper_leaving_line      4286\n",
       "1.0   shot                         2821\n",
       "      reflexes                     2406\n",
       "0.0   free_kick_shot               1159\n",
       "      hand_foul                    1083\n",
       "1.0   save_attempt                  606\n",
       "      penalty                       206\n",
       "0.0   out_of_game_foul              189\n",
       "      protest                       166\n",
       "      late_card_foul                132\n",
       "      penalty                        89\n",
       "1.0   free_kick_shot                 64\n",
       "0.0   time_lost_foul                 47\n",
       "      simulation                     35\n",
       "1.0   clearance                      10\n",
       "0.0   violent_foul                    4\n",
       "1.0   ground_defending_duel           4\n",
       "      cross                           3\n",
       "      launch                          3\n",
       "      smart_pass                      1\n",
       "      touch                           1\n",
       "dtype: int64"
      ]
     },
     "execution_count": 20,
     "metadata": {},
     "output_type": "execute_result"
    }
   ],
   "source": [
    "df_all_data[['goal', 'type_name']].value_counts()"
   ]
  },
  {
   "cell_type": "code",
   "execution_count": null,
   "metadata": {},
   "outputs": [],
   "source": []
  }
 ],
 "metadata": {
  "kernelspec": {
   "display_name": "Python 3",
   "language": "python",
   "name": "python3"
  },
  "language_info": {
   "codemirror_mode": {
    "name": "ipython",
    "version": 3
   },
   "file_extension": ".py",
   "mimetype": "text/x-python",
   "name": "python",
   "nbconvert_exporter": "python",
   "pygments_lexer": "ipython3",
   "version": "3.8.19"
  },
  "orig_nbformat": 4
 },
 "nbformat": 4,
 "nbformat_minor": 2
}
