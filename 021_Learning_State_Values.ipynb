{
 "cells": [
  {
   "cell_type": "code",
   "execution_count": 1,
   "metadata": {},
   "outputs": [],
   "source": [
    "from lib.data_utils import *\n",
    "from lib.model_utils import *\n",
    "from lib.simulator import *"
   ]
  },
  {
   "attachments": {},
   "cell_type": "markdown",
   "metadata": {},
   "source": [
    "# Load data & models"
   ]
  },
  {
   "attachments": {},
   "cell_type": "markdown",
   "metadata": {},
   "source": [
    "## Data"
   ]
  },
  {
   "cell_type": "code",
   "execution_count": 2,
   "metadata": {},
   "outputs": [],
   "source": [
    "df_train, df_train_y, df_optimization, df_optimization_y, df_test, df_test_y, complete_feature_set, features_model = load_model_training_data_template(train_sets = ['data/wyscout/csv/events/Italy.csv', 'data/wyscout/csv/events/Germany.csv', 'data/wyscout/csv/events/France.csv'], optimization_sets = ['data/wyscout/csv/events/hack_train.csv',], test_sets = ['data/wyscout/csv/events/Spain.csv', 'data/wyscout/csv/events/England.csv'])"
   ]
  },
  {
   "cell_type": "code",
   "execution_count": 3,
   "metadata": {},
   "outputs": [],
   "source": [
    "features = features_model['TYPE']\n",
    "X_test = df_test[features].astype(float).values"
   ]
  },
  {
   "cell_type": "code",
   "execution_count": null,
   "metadata": {},
   "outputs": [],
   "source": [
    "sim = Simulator(\n",
    "    model_type_path='models/lem/LEMv3_MODEL_TYPE_TORCH.pth',\n",
    "    model_acc_path='models/lem/LEMv4_MODEL_ACC_TORCH.pth',\n",
    "    model_data_path='models/lem/LEMv3_MODEL_DATA_TORCH.pth',\n",
    "    device = 'cuda:0')"
   ]
  },
  {
   "cell_type": "code",
   "execution_count": null,
   "metadata": {},
   "outputs": [],
   "source": [
    "id_offset = 250 #Implement glob count, glob as in global, don't compare them to blobs \n",
    "for i in range(200):\n",
    "    feature_tensor = sim.simulate(X_test, store_full_sim=False)\n",
    "    data = pd.DataFrame(feature_tensor.cpu())\n",
    "    data['type_id'] = data[data.columns[:33]].idxmax(axis=1) + 1\n",
    "    data = data.drop(data.columns[:33], axis=1)\n",
    "    data.columns = ['period', 'minute', 'x', 'y', 'is_home_team', 'accurate', 'goal', 'home_score', 'away_score', 'type_id']\n",
    "    data.home_score = (data.home_score * 10).astype(int)\n",
    "    data.away_score = (data.away_score * 10).astype(int)\n",
    "    data['type_name'] = data.type_id.map({v: k for k, v in SUBEVENT_TYPE_MAP.items()})\n",
    "    data.to_csv(f'data/lem/lem_sim_{id_offset+i}.csv', index=False)"
   ]
  },
  {
   "cell_type": "code",
   "execution_count": null,
   "metadata": {},
   "outputs": [],
   "source": []
  }
 ],
 "metadata": {
  "kernelspec": {
   "display_name": "Python 3",
   "language": "python",
   "name": "python3"
  },
  "language_info": {
   "codemirror_mode": {
    "name": "ipython",
    "version": 3
   },
   "file_extension": ".py",
   "mimetype": "text/x-python",
   "name": "python",
   "nbconvert_exporter": "python",
   "pygments_lexer": "ipython3",
   "version": "3.8.19"
  },
  "orig_nbformat": 4
 },
 "nbformat": 4,
 "nbformat_minor": 2
}
